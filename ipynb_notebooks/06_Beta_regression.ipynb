{
 "cells": [
  {
   "cell_type": "markdown",
   "id": "c799358e-bf76-464d-bf22-854d19aedd2d",
   "metadata": {},
   "source": [
    "# Some statistical comparisons using Beta-regression"
   ]
  },
  {
   "cell_type": "code",
   "execution_count": 21,
   "id": "87cfa9c8-c2e6-48fa-8da0-693c18416b90",
   "metadata": {},
   "outputs": [],
   "source": [
    "import numpy as np\n",
    "import pandas as pd\n",
    "\n",
    "PROJECT_DIR = \"/home/sisaev/projects/Gustafsson_et_al_2022\"\n",
    "DATA_DIR = \"/home/sisaev/data/thymus_Karin/count\"\n",
    "exec(open(f\"{PROJECT_DIR}/tools/tools.py\").read())"
   ]
  },
  {
   "cell_type": "markdown",
   "id": "67076e32-8f7a-48ec-a736-d9e789e767a7",
   "metadata": {},
   "source": [
    "## Figure 2"
   ]
  },
  {
   "cell_type": "code",
   "execution_count": 2,
   "id": "65b83228-12ed-436e-981e-f48894028f62",
   "metadata": {},
   "outputs": [
    {
     "name": "stdout",
     "output_type": "stream",
     "text": [
      "Pr(>|z|) = 3.815675931686871e-136\n"
     ]
    }
   ],
   "source": [
    "#2H-Cd248\n",
    "group1_pcts = [0.664, 0.626, 0.698]\n",
    "group2_pcts = [0.174, 0.165, 0.183]\n",
    "p = compare_pcts(group1_pcts, group2_pcts)\n",
    "print(f\"Pr(>|z|) = {p}\")"
   ]
  },
  {
   "cell_type": "code",
   "execution_count": 3,
   "id": "2c9348ca-b1d9-454a-b18f-ab5115bc7ba9",
   "metadata": {},
   "outputs": [
    {
     "name": "stdout",
     "output_type": "stream",
     "text": [
      "Pr(>|z|) = 2.099505601687643e-65\n"
     ]
    }
   ],
   "source": [
    "#2H-Penk\n",
    "group1_pcts = [0.628, 0.706, 0.739]\n",
    "group2_pcts = [0.157, 0.147, 0.166]\n",
    "p = compare_pcts(group1_pcts, group2_pcts)\n",
    "print(f\"Pr(>|z|) = {p}\")"
   ]
  },
  {
   "cell_type": "code",
   "execution_count": 4,
   "id": "7df4fc38-949d-43e5-b6a3-7c071baaac5f",
   "metadata": {},
   "outputs": [
    {
     "name": "stdout",
     "output_type": "stream",
     "text": [
      "Pr(>|z|) = 0.20725937185641494\n"
     ]
    }
   ],
   "source": [
    "#2H-Postn\n",
    "group1_pcts = [0.415, 0.435, 0.492]\n",
    "group2_pcts = [0.411, 0.376, 0.455]\n",
    "p = compare_pcts(group1_pcts, group2_pcts)\n",
    "print(f\"Pr(>|z|) = {p}\")"
   ]
  },
  {
   "cell_type": "markdown",
   "id": "4b53aee2-1d92-49b3-ac0e-d4706525202f",
   "metadata": {},
   "source": [
    "## Figure 3"
   ]
  },
  {
   "cell_type": "code",
   "execution_count": 32,
   "id": "dee2bf04-64e4-41d4-b44b-ee4d18935380",
   "metadata": {},
   "outputs": [
    {
     "data": {
      "text/html": [
       "<div>\n",
       "<style scoped>\n",
       "    .dataframe tbody tr th:only-of-type {\n",
       "        vertical-align: middle;\n",
       "    }\n",
       "\n",
       "    .dataframe tbody tr th {\n",
       "        vertical-align: top;\n",
       "    }\n",
       "\n",
       "    .dataframe thead th {\n",
       "        text-align: right;\n",
       "    }\n",
       "</style>\n",
       "<table border=\"1\" class=\"dataframe\">\n",
       "  <thead>\n",
       "    <tr style=\"text-align: right;\">\n",
       "      <th></th>\n",
       "      <th>Postn+ MC</th>\n",
       "    </tr>\n",
       "  </thead>\n",
       "  <tbody>\n",
       "    <tr>\n",
       "      <th>Control vs. IR</th>\n",
       "      <td>0.050821</td>\n",
       "    </tr>\n",
       "    <tr>\n",
       "      <th>Control vs. Aged</th>\n",
       "      <td>0.026453</td>\n",
       "    </tr>\n",
       "  </tbody>\n",
       "</table>\n",
       "</div>"
      ],
      "text/plain": [
       "                  Postn+ MC\n",
       "Control vs. IR     0.050821\n",
       "Control vs. Aged   0.026453"
      ]
     },
     "execution_count": 32,
     "metadata": {},
     "output_type": "execute_result"
    }
   ],
   "source": [
    "all_celltypes = pd.read_csv(f\"{PROJECT_DIR}/data/BetaReg_comparisons/all_populations_pcts.tsv\",\n",
    "                            sep=\"\\t\", index_col=0) / 100\n",
    "\n",
    "groups_to_compare = [\n",
    "    (\n",
    "        [\"SCG_65\", \"SCG_MTH2_C\", \"SCG_MTH3_C\", \"SCG_MTH4_C\"], # Normal vs.\n",
    "        [\"ID_MTH5_IR\", \"SCG_MTH2_IR\", \"SCG_MTH7_IR\"]          # IR\n",
    "    ),\n",
    "    (\n",
    "        [\"SCG_65\", \"SCG_MTH2_C\", \"SCG_MTH3_C\", \"SCG_MTH4_C\"],                    # Normal vs.\n",
    "        [\"ID_MTH9_Old_F3\", \"ID_MTH9_Old_F4\", \"ID_MTH9_Old_M1\", \"ID_MTH9_Old_M2\"] # aged\n",
    "    )\n",
    "]\n",
    "\n",
    "index = [\"Control vs. IR\", \"Control vs. Aged\"]\n",
    "\n",
    "multuple_celltype_condition_comparisons(\n",
    "    all_celltypes[[\"Postn+ MC\"]],\n",
    "    groups_to_compare=groups_to_compare,\n",
    "    index=index,\n",
    "    correction_method=\"fdr_bh\",\n",
    "    pseudo_count=1e-5\n",
    ")"
   ]
  },
  {
   "cell_type": "code",
   "execution_count": 34,
   "id": "778a4d47-342d-44db-8d65-a1a73a7d1dd3",
   "metadata": {},
   "outputs": [
    {
     "data": {
      "text/html": [
       "<div>\n",
       "<style scoped>\n",
       "    .dataframe tbody tr th:only-of-type {\n",
       "        vertical-align: middle;\n",
       "    }\n",
       "\n",
       "    .dataframe tbody tr th {\n",
       "        vertical-align: top;\n",
       "    }\n",
       "\n",
       "    .dataframe thead th {\n",
       "        text-align: right;\n",
       "    }\n",
       "</style>\n",
       "<table border=\"1\" class=\"dataframe\">\n",
       "  <thead>\n",
       "    <tr style=\"text-align: right;\">\n",
       "      <th></th>\n",
       "      <th>Penk+ Cdh11+ MC</th>\n",
       "    </tr>\n",
       "  </thead>\n",
       "  <tbody>\n",
       "    <tr>\n",
       "      <th>Control vs. IR</th>\n",
       "      <td>1.259347e-24</td>\n",
       "    </tr>\n",
       "    <tr>\n",
       "      <th>Control vs. Aged</th>\n",
       "      <td>8.803766e-01</td>\n",
       "    </tr>\n",
       "  </tbody>\n",
       "</table>\n",
       "</div>"
      ],
      "text/plain": [
       "                  Penk+ Cdh11+ MC\n",
       "Control vs. IR       1.259347e-24\n",
       "Control vs. Aged     8.803766e-01"
      ]
     },
     "execution_count": 34,
     "metadata": {},
     "output_type": "execute_result"
    }
   ],
   "source": [
    "all_celltypes = pd.read_csv(f\"{PROJECT_DIR}/data/BetaReg_comparisons/all_populations_pcts.tsv\",\n",
    "                            sep=\"\\t\", index_col=0) / 100\n",
    "\n",
    "groups_to_compare = [\n",
    "    (\n",
    "        [\"SCG_65\", \"SCG_MTH2_C\", \"SCG_MTH3_C\", \"SCG_MTH4_C\"], # Normal vs.\n",
    "        [\"ID_MTH5_IR\", \"SCG_MTH2_IR\", \"SCG_MTH7_IR\"]          # IR\n",
    "    ),\n",
    "    (\n",
    "        [\"SCG_65\", \"SCG_MTH2_C\", \"SCG_MTH3_C\", \"SCG_MTH4_C\"],                    # Normal vs.\n",
    "        [\"ID_MTH9_Old_F3\", \"ID_MTH9_Old_F4\", \"ID_MTH9_Old_M1\", \"ID_MTH9_Old_M2\"] # aged\n",
    "    )\n",
    "]\n",
    "\n",
    "index = [\"Control vs. IR\", \"Control vs. Aged\"]\n",
    "\n",
    "multuple_celltype_condition_comparisons(\n",
    "    all_celltypes[[\"Penk+ Cdh11+ MC\"]],\n",
    "    groups_to_compare=groups_to_compare,\n",
    "    index=index,\n",
    "    correction_method=\"fdr_bh\",\n",
    "    pseudo_count=1e-5\n",
    ")"
   ]
  },
  {
   "cell_type": "code",
   "execution_count": 35,
   "id": "89b6e833-0d7d-48ea-bc99-cf26d52292a8",
   "metadata": {},
   "outputs": [
    {
     "data": {
      "text/html": [
       "<div>\n",
       "<style scoped>\n",
       "    .dataframe tbody tr th:only-of-type {\n",
       "        vertical-align: middle;\n",
       "    }\n",
       "\n",
       "    .dataframe tbody tr th {\n",
       "        vertical-align: top;\n",
       "    }\n",
       "\n",
       "    .dataframe thead th {\n",
       "        text-align: right;\n",
       "    }\n",
       "</style>\n",
       "<table border=\"1\" class=\"dataframe\">\n",
       "  <thead>\n",
       "    <tr style=\"text-align: right;\">\n",
       "      <th></th>\n",
       "      <th>Postn+ MC</th>\n",
       "    </tr>\n",
       "  </thead>\n",
       "  <tbody>\n",
       "    <tr>\n",
       "      <th>Control vs. IR</th>\n",
       "      <td>0.059688</td>\n",
       "    </tr>\n",
       "    <tr>\n",
       "      <th>Control vs. Aged</th>\n",
       "      <td>0.244265</td>\n",
       "    </tr>\n",
       "  </tbody>\n",
       "</table>\n",
       "</div>"
      ],
      "text/plain": [
       "                  Postn+ MC\n",
       "Control vs. IR     0.059688\n",
       "Control vs. Aged   0.244265"
      ]
     },
     "execution_count": 35,
     "metadata": {},
     "output_type": "execute_result"
    }
   ],
   "source": [
    "MC_celltypes = pd.read_csv(f\"{PROJECT_DIR}/data/BetaReg_comparisons/MC_pcts.tsv\",\n",
    "                           sep=\"\\t\", index_col=0) / 100\n",
    "\n",
    "groups_to_compare_small = [\n",
    "    (\n",
    "        [\"SCG_65\", \"SCG_MTH2_C\", \"SCG_MTH3_C\", \"SCG_MTH4_C\"], # Normal vs.\n",
    "        [\"ID_MTH5_IR\", \"SCG_MTH2_IR\", \"SCG_MTH7_IR\"]          # IR\n",
    "    ),\n",
    "    (\n",
    "        [\"SCG_65\", \"SCG_MTH2_C\", \"SCG_MTH3_C\", \"SCG_MTH4_C\"],                    # Normal vs.\n",
    "        [\"ID_MTH9_Old_F3\", \"ID_MTH9_Old_F4\", \"ID_MTH9_Old_M1\", \"ID_MTH9_Old_M2\"] # aged\n",
    "    )\n",
    "]\n",
    "\n",
    "index_small = [\"Control vs. IR\", \"Control vs. Aged\"]\n",
    "\n",
    "multuple_celltype_condition_comparisons(\n",
    "    MC_celltypes[[\"Postn+ MC\"]],\n",
    "    groups_to_compare=groups_to_compare_small,\n",
    "    index=index_small,\n",
    "    correction_method=\"fdr_bh\",\n",
    "    pseudo_count=0\n",
    ")"
   ]
  },
  {
   "cell_type": "code",
   "execution_count": 36,
   "id": "da53cf9e-81f5-47ad-8227-ab7b8a7a02e0",
   "metadata": {},
   "outputs": [
    {
     "data": {
      "text/html": [
       "<div>\n",
       "<style scoped>\n",
       "    .dataframe tbody tr th:only-of-type {\n",
       "        vertical-align: middle;\n",
       "    }\n",
       "\n",
       "    .dataframe tbody tr th {\n",
       "        vertical-align: top;\n",
       "    }\n",
       "\n",
       "    .dataframe thead th {\n",
       "        text-align: right;\n",
       "    }\n",
       "</style>\n",
       "<table border=\"1\" class=\"dataframe\">\n",
       "  <thead>\n",
       "    <tr style=\"text-align: right;\">\n",
       "      <th></th>\n",
       "      <th>Penk+ Cdh11+ MC</th>\n",
       "    </tr>\n",
       "  </thead>\n",
       "  <tbody>\n",
       "    <tr>\n",
       "      <th>Control vs. IR</th>\n",
       "      <td>2.026132e-28</td>\n",
       "    </tr>\n",
       "    <tr>\n",
       "      <th>Control vs. Aged</th>\n",
       "      <td>3.027606e-08</td>\n",
       "    </tr>\n",
       "  </tbody>\n",
       "</table>\n",
       "</div>"
      ],
      "text/plain": [
       "                  Penk+ Cdh11+ MC\n",
       "Control vs. IR       2.026132e-28\n",
       "Control vs. Aged     3.027606e-08"
      ]
     },
     "execution_count": 36,
     "metadata": {},
     "output_type": "execute_result"
    }
   ],
   "source": [
    "MC_celltypes = pd.read_csv(f\"{PROJECT_DIR}/data/BetaReg_comparisons/MC_pcts.tsv\",\n",
    "                           sep=\"\\t\", index_col=0) / 100\n",
    "\n",
    "groups_to_compare_small = [\n",
    "    (\n",
    "        [\"SCG_65\", \"SCG_MTH2_C\", \"SCG_MTH3_C\", \"SCG_MTH4_C\"], # Normal vs.\n",
    "        [\"ID_MTH5_IR\", \"SCG_MTH2_IR\", \"SCG_MTH7_IR\"]          # IR\n",
    "    ),\n",
    "    (\n",
    "        [\"SCG_65\", \"SCG_MTH2_C\", \"SCG_MTH3_C\", \"SCG_MTH4_C\"],                    # Normal vs.\n",
    "        [\"ID_MTH9_Old_F3\", \"ID_MTH9_Old_F4\", \"ID_MTH9_Old_M1\", \"ID_MTH9_Old_M2\"] # aged\n",
    "    )\n",
    "]\n",
    "\n",
    "index_small = [\"Control vs. IR\", \"Control vs. Aged\"]\n",
    "\n",
    "multuple_celltype_condition_comparisons(\n",
    "    MC_celltypes[[\"Penk+ Cdh11+ MC\"]],\n",
    "    groups_to_compare=groups_to_compare_small,\n",
    "    index=index_small,\n",
    "    correction_method=\"fdr_bh\",\n",
    "    pseudo_count=0\n",
    ")"
   ]
  },
  {
   "cell_type": "markdown",
   "id": "bdd85ac2-3647-4a56-b2c3-374bfde21f1a",
   "metadata": {},
   "source": [
    "## Without NC"
   ]
  },
  {
   "cell_type": "code",
   "execution_count": 37,
   "id": "5e0cdcec-8a6d-41e4-98fc-1ff12d9512b1",
   "metadata": {},
   "outputs": [
    {
     "data": {
      "text/html": [
       "<div>\n",
       "<style scoped>\n",
       "    .dataframe tbody tr th:only-of-type {\n",
       "        vertical-align: middle;\n",
       "    }\n",
       "\n",
       "    .dataframe tbody tr th {\n",
       "        vertical-align: top;\n",
       "    }\n",
       "\n",
       "    .dataframe thead th {\n",
       "        text-align: right;\n",
       "    }\n",
       "</style>\n",
       "<table border=\"1\" class=\"dataframe\">\n",
       "  <thead>\n",
       "    <tr style=\"text-align: right;\">\n",
       "      <th></th>\n",
       "      <th>Control vs. IR</th>\n",
       "      <th>Control vs. IL7R KO</th>\n",
       "      <th>Control vs. Aged</th>\n",
       "    </tr>\n",
       "  </thead>\n",
       "  <tbody>\n",
       "    <tr>\n",
       "      <th>Cd248+ MC</th>\n",
       "      <td>7.193486e-01</td>\n",
       "      <td>0.088261</td>\n",
       "      <td>0.191916</td>\n",
       "    </tr>\n",
       "    <tr>\n",
       "      <th>EC</th>\n",
       "      <td>9.384187e-02</td>\n",
       "      <td>0.013595</td>\n",
       "      <td>0.007132</td>\n",
       "    </tr>\n",
       "    <tr>\n",
       "      <th>Lrrn4+</th>\n",
       "      <td>9.884498e-01</td>\n",
       "      <td>0.016325</td>\n",
       "      <td>0.058153</td>\n",
       "    </tr>\n",
       "    <tr>\n",
       "      <th>Penk+ Cdh11+ MC</th>\n",
       "      <td>9.667406e-24</td>\n",
       "      <td>0.035716</td>\n",
       "      <td>1.000000</td>\n",
       "    </tr>\n",
       "    <tr>\n",
       "      <th>Postn+ MC</th>\n",
       "      <td>9.384187e-02</td>\n",
       "      <td>0.312728</td>\n",
       "      <td>0.048462</td>\n",
       "    </tr>\n",
       "    <tr>\n",
       "      <th>SM</th>\n",
       "      <td>1.000000e+00</td>\n",
       "      <td>1.000000</td>\n",
       "      <td>0.191916</td>\n",
       "    </tr>\n",
       "    <tr>\n",
       "      <th>TEC A (cTEC/mTECi)</th>\n",
       "      <td>4.587380e-01</td>\n",
       "      <td>0.047298</td>\n",
       "      <td>0.423557</td>\n",
       "    </tr>\n",
       "    <tr>\n",
       "      <th>TEC B (mTECm)</th>\n",
       "      <td>8.193032e-02</td>\n",
       "      <td>0.269654</td>\n",
       "      <td>0.058153</td>\n",
       "    </tr>\n",
       "    <tr>\n",
       "      <th>Tuft cells</th>\n",
       "      <td>7.660760e-01</td>\n",
       "      <td>0.814006</td>\n",
       "      <td>0.088261</td>\n",
       "    </tr>\n",
       "    <tr>\n",
       "      <th>PV A (aPV)</th>\n",
       "      <td>1.919158e-01</td>\n",
       "      <td>0.423557</td>\n",
       "      <td>0.005977</td>\n",
       "    </tr>\n",
       "    <tr>\n",
       "      <th>PV B (pcPV)</th>\n",
       "      <td>9.384187e-02</td>\n",
       "      <td>0.003124</td>\n",
       "      <td>0.001686</td>\n",
       "    </tr>\n",
       "  </tbody>\n",
       "</table>\n",
       "</div>"
      ],
      "text/plain": [
       "                    Control vs. IR  Control vs. IL7R KO  Control vs. Aged\n",
       "Cd248+ MC             7.193486e-01             0.088261          0.191916\n",
       "EC                    9.384187e-02             0.013595          0.007132\n",
       "Lrrn4+                9.884498e-01             0.016325          0.058153\n",
       "Penk+ Cdh11+ MC       9.667406e-24             0.035716          1.000000\n",
       "Postn+ MC             9.384187e-02             0.312728          0.048462\n",
       "SM                    1.000000e+00             1.000000          0.191916\n",
       "TEC A (cTEC/mTECi)    4.587380e-01             0.047298          0.423557\n",
       "TEC B (mTECm)         8.193032e-02             0.269654          0.058153\n",
       "Tuft cells            7.660760e-01             0.814006          0.088261\n",
       "PV A (aPV)            1.919158e-01             0.423557          0.005977\n",
       "PV B (pcPV)           9.384187e-02             0.003124          0.001686"
      ]
     },
     "execution_count": 37,
     "metadata": {},
     "output_type": "execute_result"
    }
   ],
   "source": [
    "all_celltypes = pd.read_csv(f\"{PROJECT_DIR}/data/BetaReg_comparisons/all_populations_pcts.tsv\",\n",
    "                            sep=\"\\t\", index_col=0) / 100\n",
    "\n",
    "all_celltypes = (\n",
    "    all_celltypes[all_celltypes.columns[all_celltypes.columns != \"NC\"]].T / \n",
    "    all_celltypes[all_celltypes.columns[all_celltypes.columns != \"NC\"]].sum(axis=1)\n",
    ").T\n",
    "\n",
    "groups_to_compare = [\n",
    "    (\n",
    "        [\"SCG_65\", \"SCG_MTH2_C\", \"SCG_MTH3_C\", \"SCG_MTH4_C\"], # Normal vs.\n",
    "        [\"ID_MTH5_IR\", \"SCG_MTH2_IR\", \"SCG_MTH7_IR\"]          # IR\n",
    "    ),\n",
    "    (\n",
    "        [\"SCG_65\", \"SCG_MTH2_C\", \"SCG_MTH3_C\", \"SCG_MTH4_C\"],                     # Normal vs.\n",
    "        [\"ID_MTH5_IL7_C\", \"SCG_MTH8_IL7_C1\", \"SCG_MTH8_IL7_C2\", \"SCG_MTH3_IL7_C\"] # IL7R KO\n",
    "    ),\n",
    "    (\n",
    "        [\"SCG_65\", \"SCG_MTH2_C\", \"SCG_MTH3_C\", \"SCG_MTH4_C\"],                    # Normal vs.\n",
    "        [\"ID_MTH9_Old_F3\", \"ID_MTH9_Old_F4\", \"ID_MTH9_Old_M1\", \"ID_MTH9_Old_M2\"] # aged\n",
    "    )\n",
    "]\n",
    "\n",
    "index = [\"Control vs. IR\", \"Control vs. IL7R KO\", \"Control vs. Aged\"]\n",
    "\n",
    "multuple_celltype_condition_comparisons(\n",
    "    all_celltypes,\n",
    "    groups_to_compare=groups_to_compare,\n",
    "    index=index,\n",
    "    correction_method=\"fdr_bh\",\n",
    "    pseudo_count=1e-5\n",
    ").T"
   ]
  },
  {
   "cell_type": "code",
   "execution_count": 38,
   "id": "f13dcd6b-4f33-48ba-961b-5ff1e08e045d",
   "metadata": {},
   "outputs": [
    {
     "data": {
      "text/html": [
       "<div>\n",
       "<style scoped>\n",
       "    .dataframe tbody tr th:only-of-type {\n",
       "        vertical-align: middle;\n",
       "    }\n",
       "\n",
       "    .dataframe tbody tr th {\n",
       "        vertical-align: top;\n",
       "    }\n",
       "\n",
       "    .dataframe thead th {\n",
       "        text-align: right;\n",
       "    }\n",
       "</style>\n",
       "<table border=\"1\" class=\"dataframe\">\n",
       "  <thead>\n",
       "    <tr style=\"text-align: right;\">\n",
       "      <th></th>\n",
       "      <th>Postn+ MC</th>\n",
       "    </tr>\n",
       "  </thead>\n",
       "  <tbody>\n",
       "    <tr>\n",
       "      <th>Control vs. IR</th>\n",
       "      <td>0.051186</td>\n",
       "    </tr>\n",
       "    <tr>\n",
       "      <th>Control vs. Aged</th>\n",
       "      <td>0.029371</td>\n",
       "    </tr>\n",
       "  </tbody>\n",
       "</table>\n",
       "</div>"
      ],
      "text/plain": [
       "                  Postn+ MC\n",
       "Control vs. IR     0.051186\n",
       "Control vs. Aged   0.029371"
      ]
     },
     "execution_count": 38,
     "metadata": {},
     "output_type": "execute_result"
    }
   ],
   "source": [
    "groups_to_compare = [\n",
    "    (\n",
    "        [\"SCG_65\", \"SCG_MTH2_C\", \"SCG_MTH3_C\", \"SCG_MTH4_C\"], # Normal vs.\n",
    "        [\"ID_MTH5_IR\", \"SCG_MTH2_IR\", \"SCG_MTH7_IR\"]          # IR\n",
    "    ),\n",
    "    (\n",
    "        [\"SCG_65\", \"SCG_MTH2_C\", \"SCG_MTH3_C\", \"SCG_MTH4_C\"],                    # Normal vs.\n",
    "        [\"ID_MTH9_Old_F3\", \"ID_MTH9_Old_F4\", \"ID_MTH9_Old_M1\", \"ID_MTH9_Old_M2\"] # aged\n",
    "    )\n",
    "]\n",
    "\n",
    "index = [\"Control vs. IR\", \"Control vs. Aged\"]\n",
    "\n",
    "multuple_celltype_condition_comparisons(\n",
    "    all_celltypes[[\"Postn+ MC\"]],\n",
    "    groups_to_compare=groups_to_compare,\n",
    "    index=index,\n",
    "    correction_method=\"fdr_bh\",\n",
    "    pseudo_count=1e-5\n",
    ")"
   ]
  },
  {
   "cell_type": "code",
   "execution_count": 39,
   "id": "467858cf-aa02-4423-b23c-19ced9e9be8a",
   "metadata": {},
   "outputs": [
    {
     "data": {
      "text/html": [
       "<div>\n",
       "<style scoped>\n",
       "    .dataframe tbody tr th:only-of-type {\n",
       "        vertical-align: middle;\n",
       "    }\n",
       "\n",
       "    .dataframe tbody tr th {\n",
       "        vertical-align: top;\n",
       "    }\n",
       "\n",
       "    .dataframe thead th {\n",
       "        text-align: right;\n",
       "    }\n",
       "</style>\n",
       "<table border=\"1\" class=\"dataframe\">\n",
       "  <thead>\n",
       "    <tr style=\"text-align: right;\">\n",
       "      <th></th>\n",
       "      <th>Penk+ Cdh11+ MC</th>\n",
       "    </tr>\n",
       "  </thead>\n",
       "  <tbody>\n",
       "    <tr>\n",
       "      <th>Control vs. IR</th>\n",
       "      <td>5.859034e-25</td>\n",
       "    </tr>\n",
       "    <tr>\n",
       "      <th>Control vs. Aged</th>\n",
       "      <td>9.745469e-01</td>\n",
       "    </tr>\n",
       "  </tbody>\n",
       "</table>\n",
       "</div>"
      ],
      "text/plain": [
       "                  Penk+ Cdh11+ MC\n",
       "Control vs. IR       5.859034e-25\n",
       "Control vs. Aged     9.745469e-01"
      ]
     },
     "execution_count": 39,
     "metadata": {},
     "output_type": "execute_result"
    }
   ],
   "source": [
    "groups_to_compare = [\n",
    "    (\n",
    "        [\"SCG_65\", \"SCG_MTH2_C\", \"SCG_MTH3_C\", \"SCG_MTH4_C\"], # Normal vs.\n",
    "        [\"ID_MTH5_IR\", \"SCG_MTH2_IR\", \"SCG_MTH7_IR\"]          # IR\n",
    "    ),\n",
    "    (\n",
    "        [\"SCG_65\", \"SCG_MTH2_C\", \"SCG_MTH3_C\", \"SCG_MTH4_C\"],                    # Normal vs.\n",
    "        [\"ID_MTH9_Old_F3\", \"ID_MTH9_Old_F4\", \"ID_MTH9_Old_M1\", \"ID_MTH9_Old_M2\"] # aged\n",
    "    )\n",
    "]\n",
    "\n",
    "index = [\"Control vs. IR\", \"Control vs. Aged\"]\n",
    "\n",
    "multuple_celltype_condition_comparisons(\n",
    "    all_celltypes[[\"Penk+ Cdh11+ MC\"]],\n",
    "    groups_to_compare=groups_to_compare,\n",
    "    index=index,\n",
    "    correction_method=\"fdr_bh\",\n",
    "    pseudo_count=1e-5\n",
    ")"
   ]
  }
 ],
 "metadata": {
  "kernelspec": {
   "display_name": "Python 3",
   "language": "python",
   "name": "python3"
  },
  "language_info": {
   "codemirror_mode": {
    "name": "ipython",
    "version": 3
   },
   "file_extension": ".py",
   "mimetype": "text/x-python",
   "name": "python",
   "nbconvert_exporter": "python",
   "pygments_lexer": "ipython3",
   "version": "3.6.9"
  }
 },
 "nbformat": 4,
 "nbformat_minor": 5
}
