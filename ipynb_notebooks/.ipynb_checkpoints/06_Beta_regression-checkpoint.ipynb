{
 "cells": [
  {
   "cell_type": "markdown",
   "id": "c799358e-bf76-464d-bf22-854d19aedd2d",
   "metadata": {},
   "source": [
    "# Some statistical comparisons using Beta-regression"
   ]
  },
  {
   "cell_type": "code",
   "execution_count": 1,
   "id": "87cfa9c8-c2e6-48fa-8da0-693c18416b90",
   "metadata": {},
   "outputs": [],
   "source": [
    "import numpy as np\n",
    "import pandas as pd\n",
    "\n",
    "PROJECT_DIR = \"/home/sisaev/projects/Gustafsson_et_al_2022\"\n",
    "DATA_DIR = \"/home/sisaev/data/thymus_Karin/count\"\n",
    "exec(open(f\"{PROJECT_DIR}/tools/tools.py\").read())"
   ]
  },
  {
   "cell_type": "markdown",
   "id": "67076e32-8f7a-48ec-a736-d9e789e767a7",
   "metadata": {},
   "source": [
    "## Figure 2"
   ]
  },
  {
   "cell_type": "code",
   "execution_count": 4,
   "id": "65b83228-12ed-436e-981e-f48894028f62",
   "metadata": {},
   "outputs": [
    {
     "name": "stdout",
     "output_type": "stream",
     "text": [
      "Pr(>|z|) = 3.815675931686871e-136\n"
     ]
    }
   ],
   "source": [
    "#2H-Cd248\n",
    "group1_pcts = [0.664, 0.626, 0.698]\n",
    "group2_pcts = [0.174, 0.165, 0.183]\n",
    "p = compare_pcts(group1_pcts, group2_pcts)\n",
    "print(f\"Pr(>|z|) = {p}\")"
   ]
  },
  {
   "cell_type": "code",
   "execution_count": 5,
   "id": "2c9348ca-b1d9-454a-b18f-ab5115bc7ba9",
   "metadata": {},
   "outputs": [
    {
     "name": "stdout",
     "output_type": "stream",
     "text": [
      "Pr(>|z|) = 2.099505601687643e-65\n"
     ]
    }
   ],
   "source": [
    "#2H-Penk\n",
    "group1_pcts = [0.628, 0.706, 0.739]\n",
    "group2_pcts = [0.157, 0.147, 0.166]\n",
    "p = compare_pcts(group1_pcts, group2_pcts)\n",
    "print(f\"Pr(>|z|) = {p}\")"
   ]
  },
  {
   "cell_type": "code",
   "execution_count": 6,
   "id": "7df4fc38-949d-43e5-b6a3-7c071baaac5f",
   "metadata": {},
   "outputs": [
    {
     "name": "stdout",
     "output_type": "stream",
     "text": [
      "Pr(>|z|) = 0.20725937185641494\n"
     ]
    }
   ],
   "source": [
    "#2H-Postn\n",
    "group1_pcts = [0.415, 0.435, 0.492]\n",
    "group2_pcts = [0.411, 0.376, 0.455]\n",
    "p = compare_pcts(group1_pcts, group2_pcts)\n",
    "print(f\"Pr(>|z|) = {p}\")"
   ]
  },
  {
   "cell_type": "markdown",
   "id": "4b53aee2-1d92-49b3-ac0e-d4706525202f",
   "metadata": {},
   "source": [
    "## Figure 3"
   ]
  },
  {
   "cell_type": "code",
   "execution_count": 7,
   "id": "d4b3092f-dab9-45e4-bb88-8b6384027460",
   "metadata": {},
   "outputs": [
    {
     "data": {
      "text/html": [
       "<div>\n",
       "<style scoped>\n",
       "    .dataframe tbody tr th:only-of-type {\n",
       "        vertical-align: middle;\n",
       "    }\n",
       "\n",
       "    .dataframe tbody tr th {\n",
       "        vertical-align: top;\n",
       "    }\n",
       "\n",
       "    .dataframe thead th {\n",
       "        text-align: right;\n",
       "    }\n",
       "</style>\n",
       "<table border=\"1\" class=\"dataframe\">\n",
       "  <thead>\n",
       "    <tr style=\"text-align: right;\">\n",
       "      <th></th>\n",
       "      <th>Control vs. IR</th>\n",
       "      <th>Control vs. IL7R KO</th>\n",
       "      <th>Control vs. Aged</th>\n",
       "    </tr>\n",
       "  </thead>\n",
       "  <tbody>\n",
       "    <tr>\n",
       "      <th>Cd248+ MC</th>\n",
       "      <td>7.044622e-01</td>\n",
       "      <td>0.038454</td>\n",
       "      <td>0.169378</td>\n",
       "    </tr>\n",
       "    <tr>\n",
       "      <th>EC</th>\n",
       "      <td>1.076208e-01</td>\n",
       "      <td>0.220099</td>\n",
       "      <td>0.007553</td>\n",
       "    </tr>\n",
       "    <tr>\n",
       "      <th>Lrrn4+</th>\n",
       "      <td>9.524809e-01</td>\n",
       "      <td>0.010509</td>\n",
       "      <td>0.063590</td>\n",
       "    </tr>\n",
       "    <tr>\n",
       "      <th>NC</th>\n",
       "      <td>4.637625e-01</td>\n",
       "      <td>0.156551</td>\n",
       "      <td>0.000044</td>\n",
       "    </tr>\n",
       "    <tr>\n",
       "      <th>Penk+ Cdh11+ MC</th>\n",
       "      <td>2.266825e-23</td>\n",
       "      <td>0.000314</td>\n",
       "      <td>0.952481</td>\n",
       "    </tr>\n",
       "    <tr>\n",
       "      <th>Postn+ MC</th>\n",
       "      <td>1.076208e-01</td>\n",
       "      <td>0.129532</td>\n",
       "      <td>0.047615</td>\n",
       "    </tr>\n",
       "    <tr>\n",
       "      <th>SM</th>\n",
       "      <td>1.000000e+00</td>\n",
       "      <td>1.000000</td>\n",
       "      <td>0.183682</td>\n",
       "    </tr>\n",
       "    <tr>\n",
       "      <th>TEC A (cTEC/mTECi)</th>\n",
       "      <td>4.637625e-01</td>\n",
       "      <td>0.119250</td>\n",
       "      <td>0.463762</td>\n",
       "    </tr>\n",
       "    <tr>\n",
       "      <th>TEC B (mTECm)</th>\n",
       "      <td>8.870242e-02</td>\n",
       "      <td>0.130976</td>\n",
       "      <td>0.060460</td>\n",
       "    </tr>\n",
       "    <tr>\n",
       "      <th>Tuft cells</th>\n",
       "      <td>7.538029e-01</td>\n",
       "      <td>0.594048</td>\n",
       "      <td>0.095361</td>\n",
       "    </tr>\n",
       "    <tr>\n",
       "      <th>PV A (aPV)</th>\n",
       "      <td>1.836815e-01</td>\n",
       "      <td>0.807032</td>\n",
       "      <td>0.007112</td>\n",
       "    </tr>\n",
       "    <tr>\n",
       "      <th>PV B (pcPV)</th>\n",
       "      <td>1.076208e-01</td>\n",
       "      <td>0.013484</td>\n",
       "      <td>0.001257</td>\n",
       "    </tr>\n",
       "  </tbody>\n",
       "</table>\n",
       "</div>"
      ],
      "text/plain": [
       "                    Control vs. IR  Control vs. IL7R KO  Control vs. Aged\n",
       "Cd248+ MC             7.044622e-01             0.038454          0.169378\n",
       "EC                    1.076208e-01             0.220099          0.007553\n",
       "Lrrn4+                9.524809e-01             0.010509          0.063590\n",
       "NC                    4.637625e-01             0.156551          0.000044\n",
       "Penk+ Cdh11+ MC       2.266825e-23             0.000314          0.952481\n",
       "Postn+ MC             1.076208e-01             0.129532          0.047615\n",
       "SM                    1.000000e+00             1.000000          0.183682\n",
       "TEC A (cTEC/mTECi)    4.637625e-01             0.119250          0.463762\n",
       "TEC B (mTECm)         8.870242e-02             0.130976          0.060460\n",
       "Tuft cells            7.538029e-01             0.594048          0.095361\n",
       "PV A (aPV)            1.836815e-01             0.807032          0.007112\n",
       "PV B (pcPV)           1.076208e-01             0.013484          0.001257"
      ]
     },
     "execution_count": 7,
     "metadata": {},
     "output_type": "execute_result"
    }
   ],
   "source": [
    "all_celltypes = pd.read_csv(f\"{PROJECT_DIR}/data/BetaReg_comparisons/all_populations_pcts.tsv\",\n",
    "                            sep=\"\\t\", index_col=0) / 100\n",
    "\n",
    "groups_to_compare = [\n",
    "    (\n",
    "        [\"SCG_65\", \"SCG_MTH2_C\", \"SCG_MTH3_C\", \"SCG_MTH4_C\"], # Normal vs.\n",
    "        [\"ID_MTH5_IR\", \"SCG_MTH2_IR\", \"SCG_MTH7_IR\"]          # IR\n",
    "    ),\n",
    "    (\n",
    "        [\"SCG_65\", \"SCG_MTH2_C\", \"SCG_MTH3_C\", \"SCG_MTH4_C\"],                     # Normal vs.\n",
    "        [\"ID_MTH5_IL7_C\", \"SCG_MTH8_IL7_C1\", \"SCG_MTH8_IL7_C2\", \"SCG_MTH3_IL7_C\"] # IL7R KO\n",
    "    ),\n",
    "    (\n",
    "        [\"SCG_65\", \"SCG_MTH2_C\", \"SCG_MTH3_C\", \"SCG_MTH4_C\"],                    # Normal vs.\n",
    "        [\"ID_MTH9_Old_F3\", \"ID_MTH9_Old_F4\", \"ID_MTH9_Old_M1\", \"ID_MTH9_Old_M2\"] # aged\n",
    "    )\n",
    "]\n",
    "\n",
    "index = [\"Control vs. IR\", \"Control vs. IL7R KO\", \"Control vs. Aged\"]\n",
    "\n",
    "multuple_celltype_condition_comparisons(\n",
    "    all_celltypes,\n",
    "    groups_to_compare=groups_to_compare,\n",
    "    index=index,\n",
    "    correction_method=\"fdr_bh\",\n",
    "    pseudo_count=1e-5\n",
    ").T"
   ]
  },
  {
   "cell_type": "code",
   "execution_count": 8,
   "id": "dee2bf04-64e4-41d4-b44b-ee4d18935380",
   "metadata": {},
   "outputs": [
    {
     "data": {
      "text/html": [
       "<div>\n",
       "<style scoped>\n",
       "    .dataframe tbody tr th:only-of-type {\n",
       "        vertical-align: middle;\n",
       "    }\n",
       "\n",
       "    .dataframe tbody tr th {\n",
       "        vertical-align: top;\n",
       "    }\n",
       "\n",
       "    .dataframe thead th {\n",
       "        text-align: right;\n",
       "    }\n",
       "</style>\n",
       "<table border=\"1\" class=\"dataframe\">\n",
       "  <thead>\n",
       "    <tr style=\"text-align: right;\">\n",
       "      <th></th>\n",
       "      <th>Penk+ Cdh11+ MC</th>\n",
       "      <th>Postn+ MC</th>\n",
       "    </tr>\n",
       "  </thead>\n",
       "  <tbody>\n",
       "    <tr>\n",
       "      <th>Control vs. IR</th>\n",
       "      <td>3.778041e-24</td>\n",
       "      <td>0.076231</td>\n",
       "    </tr>\n",
       "    <tr>\n",
       "      <th>Control vs. IL7R KO</th>\n",
       "      <td>7.845767e-05</td>\n",
       "      <td>0.082037</td>\n",
       "    </tr>\n",
       "    <tr>\n",
       "      <th>Control vs. Aged</th>\n",
       "      <td>8.803766e-01</td>\n",
       "      <td>0.026453</td>\n",
       "    </tr>\n",
       "  </tbody>\n",
       "</table>\n",
       "</div>"
      ],
      "text/plain": [
       "                     Penk+ Cdh11+ MC  Postn+ MC\n",
       "Control vs. IR          3.778041e-24   0.076231\n",
       "Control vs. IL7R KO     7.845767e-05   0.082037\n",
       "Control vs. Aged        8.803766e-01   0.026453"
      ]
     },
     "execution_count": 8,
     "metadata": {},
     "output_type": "execute_result"
    }
   ],
   "source": [
    "multuple_celltype_condition_comparisons(\n",
    "    all_celltypes[[\"Penk+ Cdh11+ MC\", \"Postn+ MC\"]],\n",
    "    groups_to_compare=groups_to_compare,\n",
    "    index=index,\n",
    "    correction_method=\"fdr_bh\",\n",
    "    pseudo_count=1e-5\n",
    ")"
   ]
  },
  {
   "cell_type": "code",
   "execution_count": 9,
   "id": "89b6e833-0d7d-48ea-bc99-cf26d52292a8",
   "metadata": {},
   "outputs": [
    {
     "data": {
      "text/html": [
       "<div>\n",
       "<style scoped>\n",
       "    .dataframe tbody tr th:only-of-type {\n",
       "        vertical-align: middle;\n",
       "    }\n",
       "\n",
       "    .dataframe tbody tr th {\n",
       "        vertical-align: top;\n",
       "    }\n",
       "\n",
       "    .dataframe thead th {\n",
       "        text-align: right;\n",
       "    }\n",
       "</style>\n",
       "<table border=\"1\" class=\"dataframe\">\n",
       "  <thead>\n",
       "    <tr style=\"text-align: right;\">\n",
       "      <th></th>\n",
       "      <th>Penk+ Cdh11+ MC</th>\n",
       "      <th>Postn+ MC</th>\n",
       "    </tr>\n",
       "  </thead>\n",
       "  <tbody>\n",
       "    <tr>\n",
       "      <th>Control vs. IR</th>\n",
       "      <td>4.052265e-28</td>\n",
       "      <td>0.039792</td>\n",
       "    </tr>\n",
       "    <tr>\n",
       "      <th>Control vs. Aged</th>\n",
       "      <td>6.055211e-08</td>\n",
       "      <td>0.244265</td>\n",
       "    </tr>\n",
       "  </tbody>\n",
       "</table>\n",
       "</div>"
      ],
      "text/plain": [
       "                  Penk+ Cdh11+ MC  Postn+ MC\n",
       "Control vs. IR       4.052265e-28   0.039792\n",
       "Control vs. Aged     6.055211e-08   0.244265"
      ]
     },
     "execution_count": 9,
     "metadata": {},
     "output_type": "execute_result"
    }
   ],
   "source": [
    "MC_celltypes = pd.read_csv(f\"{PROJECT_DIR}/data/BetaReg_comparisons/MC_pcts.tsv\",\n",
    "                           sep=\"\\t\", index_col=0) / 100\n",
    "\n",
    "groups_to_compare_small = [\n",
    "    (\n",
    "        [\"SCG_65\", \"SCG_MTH2_C\", \"SCG_MTH3_C\", \"SCG_MTH4_C\"], # Normal vs.\n",
    "        [\"ID_MTH5_IR\", \"SCG_MTH2_IR\", \"SCG_MTH7_IR\"]          # IR\n",
    "    ),\n",
    "    (\n",
    "        [\"SCG_65\", \"SCG_MTH2_C\", \"SCG_MTH3_C\", \"SCG_MTH4_C\"],                    # Normal vs.\n",
    "        [\"ID_MTH9_Old_F3\", \"ID_MTH9_Old_F4\", \"ID_MTH9_Old_M1\", \"ID_MTH9_Old_M2\"] # aged\n",
    "    )\n",
    "]\n",
    "\n",
    "index_small = [\"Control vs. IR\", \"Control vs. Aged\"]\n",
    "\n",
    "multuple_celltype_condition_comparisons(\n",
    "    MC_celltypes[[\"Penk+ Cdh11+ MC\", \"Postn+ MC\"]],\n",
    "    groups_to_compare=groups_to_compare_small,\n",
    "    index=index_small,\n",
    "    correction_method=\"fdr_bh\",\n",
    "    pseudo_count=0\n",
    ")"
   ]
  }
 ],
 "metadata": {
  "kernelspec": {
   "display_name": "Python 3",
   "language": "python",
   "name": "python3"
  },
  "language_info": {
   "codemirror_mode": {
    "name": "ipython",
    "version": 3
   },
   "file_extension": ".py",
   "mimetype": "text/x-python",
   "name": "python",
   "nbconvert_exporter": "python",
   "pygments_lexer": "ipython3",
   "version": "3.6.9"
  }
 },
 "nbformat": 4,
 "nbformat_minor": 5
}
